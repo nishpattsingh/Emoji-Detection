{
 "cells": [
  {
   "cell_type": "code",
   "execution_count": 1,
   "metadata": {},
   "outputs": [
    {
     "name": "stdout",
     "output_type": "stream",
     "text": [
      "Collecting emoji\n",
      "  Using cached emoji-0.5.4.tar.gz (43 kB)\n",
      "Building wheels for collected packages: emoji\n",
      "  Building wheel for emoji (setup.py): started\n",
      "  Building wheel for emoji (setup.py): finished with status 'done'\n",
      "  Created wheel for emoji: filename=emoji-0.5.4-py3-none-any.whl size=42179 sha256=1f3c2012048ca23638ec67afe89ecca850d89b39eb210edc629fdb2a9ce4f270\n",
      "  Stored in directory: c:\\users\\nishpatt\\appdata\\local\\pip\\cache\\wheels\\22\\95\\98\\a21ffcc81fac65949a085ceff9dca4a145a32d9bbfcbf1cb31\n",
      "Successfully built emoji\n",
      "Installing collected packages: emoji\n",
      "Successfully installed emoji-0.5.4\n"
     ]
    }
   ],
   "source": [
    "!pip install emoji"
   ]
  },
  {
   "cell_type": "code",
   "execution_count": 2,
   "metadata": {},
   "outputs": [],
   "source": [
    "import emoji"
   ]
  },
  {
   "cell_type": "code",
   "execution_count": 3,
   "metadata": {},
   "outputs": [
    {
     "name": "stdout",
     "output_type": "stream",
     "text": [
      "😠\n"
     ]
    }
   ],
   "source": [
    "print(emoji.emojize(\":angry_face:\"))"
   ]
  },
  {
   "cell_type": "code",
   "execution_count": 6,
   "metadata": {},
   "outputs": [],
   "source": [
    "import pandas as pd\n",
    "import numpy as np"
   ]
  },
  {
   "cell_type": "code",
   "execution_count": 5,
   "metadata": {},
   "outputs": [
    {
     "name": "stdout",
     "output_type": "stream",
     "text": [
      "Collecting pandas\n",
      "  Downloading pandas-1.0.3-cp36-cp36m-win_amd64.whl (8.7 MB)\n",
      "Requirement already satisfied: numpy>=1.13.3 in c:\\users\\nishpatt\\anaconda3\\envs\\venv\\lib\\site-packages (from pandas) (1.18.4)\n",
      "Requirement already satisfied: python-dateutil>=2.6.1 in c:\\users\\nishpatt\\anaconda3\\envs\\venv\\lib\\site-packages (from pandas) (2.8.1)\n",
      "Requirement already satisfied: pytz>=2017.2 in c:\\users\\nishpatt\\anaconda3\\envs\\venv\\lib\\site-packages (from pandas) (2020.1)\n",
      "Requirement already satisfied: six>=1.5 in c:\\users\\nishpatt\\anaconda3\\envs\\venv\\lib\\site-packages (from python-dateutil>=2.6.1->pandas) (1.14.0)\n",
      "Installing collected packages: pandas\n",
      "Successfully installed pandas-1.0.3\n"
     ]
    }
   ],
   "source": [
    "!pip install pandas"
   ]
  },
  {
   "cell_type": "code",
   "execution_count": 7,
   "metadata": {},
   "outputs": [],
   "source": [
    "data = pd.read_csv(\"train_emoji.csv\",header = None)"
   ]
  },
  {
   "cell_type": "code",
   "execution_count": 8,
   "metadata": {},
   "outputs": [
    {
     "data": {
      "text/html": [
       "<div>\n",
       "<style scoped>\n",
       "    .dataframe tbody tr th:only-of-type {\n",
       "        vertical-align: middle;\n",
       "    }\n",
       "\n",
       "    .dataframe tbody tr th {\n",
       "        vertical-align: top;\n",
       "    }\n",
       "\n",
       "    .dataframe thead th {\n",
       "        text-align: right;\n",
       "    }\n",
       "</style>\n",
       "<table border=\"1\" class=\"dataframe\">\n",
       "  <thead>\n",
       "    <tr style=\"text-align: right;\">\n",
       "      <th></th>\n",
       "      <th>0</th>\n",
       "      <th>1</th>\n",
       "      <th>2</th>\n",
       "      <th>3</th>\n",
       "    </tr>\n",
       "  </thead>\n",
       "  <tbody>\n",
       "    <tr>\n",
       "      <th>0</th>\n",
       "      <td>never talk to me again</td>\n",
       "      <td>3</td>\n",
       "      <td>NaN</td>\n",
       "      <td>NaN</td>\n",
       "    </tr>\n",
       "    <tr>\n",
       "      <th>1</th>\n",
       "      <td>I am proud of your achievements</td>\n",
       "      <td>2</td>\n",
       "      <td>NaN</td>\n",
       "      <td>NaN</td>\n",
       "    </tr>\n",
       "    <tr>\n",
       "      <th>2</th>\n",
       "      <td>It is the worst day in my life</td>\n",
       "      <td>3</td>\n",
       "      <td>NaN</td>\n",
       "      <td>NaN</td>\n",
       "    </tr>\n",
       "    <tr>\n",
       "      <th>3</th>\n",
       "      <td>Miss you so much</td>\n",
       "      <td>0</td>\n",
       "      <td>NaN</td>\n",
       "      <td>[0]</td>\n",
       "    </tr>\n",
       "    <tr>\n",
       "      <th>4</th>\n",
       "      <td>food is life</td>\n",
       "      <td>4</td>\n",
       "      <td>NaN</td>\n",
       "      <td>NaN</td>\n",
       "    </tr>\n",
       "  </tbody>\n",
       "</table>\n",
       "</div>"
      ],
      "text/plain": [
       "                                 0  1   2     3\n",
       "0           never talk to me again  3 NaN   NaN\n",
       "1  I am proud of your achievements  2 NaN   NaN\n",
       "2   It is the worst day in my life  3 NaN   NaN\n",
       "3                 Miss you so much  0 NaN   [0]\n",
       "4                     food is life  4 NaN   NaN"
      ]
     },
     "execution_count": 8,
     "metadata": {},
     "output_type": "execute_result"
    }
   ],
   "source": [
    "data.head()"
   ]
  },
  {
   "cell_type": "code",
   "execution_count": 9,
   "metadata": {},
   "outputs": [],
   "source": [
    "emoji_dict = {\n",
    "    0:\":beating_heart:\",\n",
    "    1:\":baseball:\",\n",
    "    2:\":beaming_face_with_smiling_eyes:\",\n",
    "    3:\":disappointed_face:\",\n",
    "    4:\":fork_and_knife:\"    \n",
    "}"
   ]
  },
  {
   "cell_type": "code",
   "execution_count": 10,
   "metadata": {},
   "outputs": [
    {
     "name": "stdout",
     "output_type": "stream",
     "text": [
      "💓\n",
      "⚾\n",
      "😁\n",
      "😞\n",
      "🍴\n"
     ]
    }
   ],
   "source": [
    "for i in emoji_dict.values():\n",
    "    print(emoji.emojize(i))"
   ]
  },
  {
   "cell_type": "code",
   "execution_count": 11,
   "metadata": {},
   "outputs": [],
   "source": [
    "x_train = data[0]\n",
    "y_train = data[1]"
   ]
  },
  {
   "cell_type": "code",
   "execution_count": 12,
   "metadata": {},
   "outputs": [
    {
     "name": "stdout",
     "output_type": "stream",
     "text": [
      "(132,) (132,)\n"
     ]
    }
   ],
   "source": [
    "print(x_train.shape , y_train.shape)"
   ]
  },
  {
   "cell_type": "code",
   "execution_count": 13,
   "metadata": {},
   "outputs": [
    {
     "data": {
      "text/plain": [
       "['i', 'am', 'proud', 'of', 'your', 'achievements']"
      ]
     },
     "execution_count": 13,
     "metadata": {},
     "output_type": "execute_result"
    }
   ],
   "source": [
    "x_train[1].lower().split()"
   ]
  },
  {
   "cell_type": "code",
   "execution_count": 14,
   "metadata": {},
   "outputs": [
    {
     "name": "stderr",
     "output_type": "stream",
     "text": [
      "c:\\users\\nishpatt\\anaconda3\\envs\\venv\\lib\\site-packages\\ipykernel_launcher.py:2: SettingWithCopyWarning: \n",
      "A value is trying to be set on a copy of a slice from a DataFrame\n",
      "\n",
      "See the caveats in the documentation: https://pandas.pydata.org/pandas-docs/stable/user_guide/indexing.html#returning-a-view-versus-a-copy\n",
      "  \n"
     ]
    }
   ],
   "source": [
    "for i in range(x_train.shape[0]):\n",
    "    x_train[i] = x_train[i].lower().split()"
   ]
  },
  {
   "cell_type": "code",
   "execution_count": 15,
   "metadata": {},
   "outputs": [
    {
     "data": {
      "text/plain": [
       "0                 [never, talk, to, me, again]\n",
       "1       [i, am, proud, of, your, achievements]\n",
       "2      [it, is, the, worst, day, in, my, life]\n",
       "3                        [miss, you, so, much]\n",
       "4                             [food, is, life]\n",
       "                        ...                   \n",
       "127          [he, had, to, make, a, home, run]\n",
       "128                    [i, am, ordering, food]\n",
       "129               [what, is, wrong, with, you]\n",
       "130                             [i, love, you]\n",
       "131                               [great, job]\n",
       "Name: 0, Length: 132, dtype: object"
      ]
     },
     "execution_count": 15,
     "metadata": {},
     "output_type": "execute_result"
    }
   ],
   "source": [
    "x_train"
   ]
  },
  {
   "cell_type": "code",
   "execution_count": 16,
   "metadata": {},
   "outputs": [],
   "source": [
    "def read_glove_vecs(glove_file):\n",
    "    with open(glove_file, 'r',encoding='utf8') as f:\n",
    "        words = set()\n",
    "        word_to_vec_map = {}\n",
    "        for line in f:\n",
    "            line = line.strip().split()\n",
    "            curr_word = line[0]\n",
    "            words.add(curr_word)\n",
    "            word_to_vec_map[curr_word] = np.array(line[1:], dtype=np.float64)\n",
    "        \n",
    "        i = 1\n",
    "        words_to_index = {}\n",
    "        index_to_words = {}\n",
    "        for w in sorted(words):\n",
    "            words_to_index[w] = i\n",
    "            index_to_words[i] = w\n",
    "            i = i + 1\n",
    "    return words_to_index, index_to_words, word_to_vec_map"
   ]
  },
  {
   "cell_type": "code",
   "execution_count": 17,
   "metadata": {},
   "outputs": [],
   "source": [
    "words_to_index, index_to_words, word_to_vec_map = read_glove_vecs(\"glove.6B.50d.txt\")"
   ]
  },
  {
   "cell_type": "code",
   "execution_count": 18,
   "metadata": {},
   "outputs": [
    {
     "data": {
      "text/plain": [
       "array([ 0.18822 ,  0.52772 , -0.80729 , -0.18974 ,  0.73361 , -0.52599 ,\n",
       "        0.73379 ,  1.151   , -1.0057  ,  0.53222 , -0.53503 , -0.46232 ,\n",
       "       -0.35761 , -0.089558,  1.1745  ,  0.025105, -0.26076 ,  0.57176 ,\n",
       "        0.51661 ,  0.39261 , -1.2262  ,  0.96739 ,  0.14591 ,  0.67439 ,\n",
       "        1.0324  , -0.9346  , -1.8862  ,  1.2702  ,  1.0383  , -0.093612,\n",
       "        1.7631  ,  0.13482 ,  0.6586  ,  0.017446, -0.23751 ,  0.080928,\n",
       "        0.40966 , -0.56527 ,  0.43035 , -0.30735 , -0.6366  ,  0.042546,\n",
       "       -0.23112 , -0.46408 , -0.04127 ,  0.86248 , -0.31139 ,  0.37836 ,\n",
       "        0.037122,  0.74944 ])"
      ]
     },
     "execution_count": 18,
     "metadata": {},
     "output_type": "execute_result"
    }
   ],
   "source": [
    "word_to_vec_map[\"sad\"]"
   ]
  },
  {
   "cell_type": "code",
   "execution_count": 19,
   "metadata": {},
   "outputs": [],
   "source": [
    "def avg_vector(words):\n",
    "    \n",
    "    ans = word_to_vec_map[words[0]]\n",
    "    for i in range(1,len(words)):\n",
    "        ans = np.add(ans,word_to_vec_map[words[i]])\n",
    "    ans = ans/float(len(words))\n",
    "    return ans"
   ]
  },
  {
   "cell_type": "code",
   "execution_count": 20,
   "metadata": {},
   "outputs": [],
   "source": [
    "ans = avg_vector(x_train[0])"
   ]
  },
  {
   "cell_type": "code",
   "execution_count": 21,
   "metadata": {},
   "outputs": [],
   "source": [
    "X_numbers = np.zeros((132,50))"
   ]
  },
  {
   "cell_type": "code",
   "execution_count": 22,
   "metadata": {},
   "outputs": [],
   "source": [
    "for i in range(x_train.shape[0]):\n",
    "    X_numbers[i] = avg_vector(x_train[i])"
   ]
  },
  {
   "cell_type": "code",
   "execution_count": 23,
   "metadata": {},
   "outputs": [
    {
     "name": "stdout",
     "output_type": "stream",
     "text": [
      "(132, 50)\n",
      "[[ 0.0971846   0.0174374   0.052843   ... -0.2522034  -0.2197784\n",
      "   0.307606  ]\n",
      " [ 0.00563117  0.59711333 -0.13939717 ... -0.06701233 -0.025773\n",
      "   0.32180167]\n",
      " [ 0.27343125  0.33763875 -0.33053875 ... -0.335001    0.06524875\n",
      "  -0.04257963]\n",
      " ...\n",
      " [ 0.29220562  0.1533622  -0.015246   ...  0.032272    0.1313342\n",
      "   0.472114  ]\n",
      " [-0.00701397  0.54196333 -0.19225433 ... -0.80106333 -0.20057967\n",
      "   0.78087   ]\n",
      " [-0.1149985   0.6452325  -0.39727    ...  0.142175   -0.2057708\n",
      "   0.5231    ]]\n"
     ]
    }
   ],
   "source": [
    "print(X_numbers.shape)\n",
    "print(X_numbers)"
   ]
  },
  {
   "cell_type": "code",
   "execution_count": 24,
   "metadata": {},
   "outputs": [
    {
     "name": "stderr",
     "output_type": "stream",
     "text": [
      "Using TensorFlow backend.\n"
     ]
    }
   ],
   "source": [
    "from keras.models import Sequential\n",
    "from keras.layers import Dense,Input,Activation\n",
    "from keras.utils import to_categorical"
   ]
  },
  {
   "cell_type": "code",
   "execution_count": 25,
   "metadata": {},
   "outputs": [],
   "source": [
    "model = Sequential()\n",
    "# Build neural network\n",
    "model.add(Dense(10, activation='relu', input_shape=(50,)))\n",
    "model.add(Dense(5, activation='softmax'))"
   ]
  },
  {
   "cell_type": "code",
   "execution_count": 26,
   "metadata": {},
   "outputs": [],
   "source": [
    "model.compile(optimizer='adam',\n",
    "              loss='categorical_crossentropy',\n",
    "              metrics=['accuracy'])"
   ]
  },
  {
   "cell_type": "code",
   "execution_count": 28,
   "metadata": {},
   "outputs": [
    {
     "name": "stdout",
     "output_type": "stream",
     "text": [
      "(132,)\n",
      "(132, 5)\n"
     ]
    }
   ],
   "source": [
    "print(y_train.shape)\n",
    "Y_onehot = to_categorical(y_train)\n",
    "print(Y_onehot.shape)"
   ]
  },
  {
   "cell_type": "code",
   "execution_count": 30,
   "metadata": {},
   "outputs": [
    {
     "name": "stdout",
     "output_type": "stream",
     "text": [
      "3\n",
      "[0. 0. 0. 1. 0.]\n"
     ]
    }
   ],
   "source": [
    "print(y_train[0])\n",
    "print(Y_onehot[0])"
   ]
  },
  {
   "cell_type": "code",
   "execution_count": 31,
   "metadata": {},
   "outputs": [
    {
     "name": "stdout",
     "output_type": "stream",
     "text": [
      "Epoch 1/100\n",
      "132/132 [==============================] - 0s 694us/step - loss: 1.7456 - accuracy: 0.2273\n",
      "Epoch 2/100\n",
      "132/132 [==============================] - 0s 38us/step - loss: 1.6939 - accuracy: 0.2803\n",
      "Epoch 3/100\n",
      "132/132 [==============================] - 0s 45us/step - loss: 1.6570 - accuracy: 0.3106\n",
      "Epoch 4/100\n",
      "132/132 [==============================] - 0s 45us/step - loss: 1.6312 - accuracy: 0.3030\n",
      "Epoch 5/100\n",
      "132/132 [==============================] - 0s 60us/step - loss: 1.6068 - accuracy: 0.3182\n",
      "Epoch 6/100\n",
      "132/132 [==============================] - 0s 45us/step - loss: 1.5891 - accuracy: 0.3333\n",
      "Epoch 7/100\n",
      "132/132 [==============================] - 0s 60us/step - loss: 1.5699 - accuracy: 0.3485\n",
      "Epoch 8/100\n",
      "132/132 [==============================] - 0s 53us/step - loss: 1.5543 - accuracy: 0.3333\n",
      "Epoch 9/100\n",
      "132/132 [==============================] - 0s 45us/step - loss: 1.5392 - accuracy: 0.3409\n",
      "Epoch 10/100\n",
      "132/132 [==============================] - 0s 60us/step - loss: 1.5250 - accuracy: 0.3636\n",
      "Epoch 11/100\n",
      "132/132 [==============================] - 0s 53us/step - loss: 1.5119 - accuracy: 0.3636\n",
      "Epoch 12/100\n",
      "132/132 [==============================] - 0s 38us/step - loss: 1.4963 - accuracy: 0.3636\n",
      "Epoch 13/100\n",
      "132/132 [==============================] - 0s 53us/step - loss: 1.4836 - accuracy: 0.3788\n",
      "Epoch 14/100\n",
      "132/132 [==============================] - 0s 38us/step - loss: 1.4714 - accuracy: 0.3788\n",
      "Epoch 15/100\n",
      "132/132 [==============================] - 0s 45us/step - loss: 1.4605 - accuracy: 0.3788\n",
      "Epoch 16/100\n",
      "132/132 [==============================] - 0s 46us/step - loss: 1.4496 - accuracy: 0.3712\n",
      "Epoch 17/100\n",
      "132/132 [==============================] - 0s 53us/step - loss: 1.4399 - accuracy: 0.3939\n",
      "Epoch 18/100\n",
      "132/132 [==============================] - 0s 60us/step - loss: 1.4304 - accuracy: 0.3939\n",
      "Epoch 19/100\n",
      "132/132 [==============================] - 0s 45us/step - loss: 1.4203 - accuracy: 0.4015\n",
      "Epoch 20/100\n",
      "132/132 [==============================] - 0s 53us/step - loss: 1.4101 - accuracy: 0.4242\n",
      "Epoch 21/100\n",
      "132/132 [==============================] - 0s 45us/step - loss: 1.3998 - accuracy: 0.4167\n",
      "Epoch 22/100\n",
      "132/132 [==============================] - 0s 68us/step - loss: 1.3881 - accuracy: 0.4470\n",
      "Epoch 23/100\n",
      "132/132 [==============================] - 0s 45us/step - loss: 1.3786 - accuracy: 0.4394\n",
      "Epoch 24/100\n",
      "132/132 [==============================] - 0s 53us/step - loss: 1.3658 - accuracy: 0.4621\n",
      "Epoch 25/100\n",
      "132/132 [==============================] - 0s 53us/step - loss: 1.3548 - accuracy: 0.4621\n",
      "Epoch 26/100\n",
      "132/132 [==============================] - 0s 45us/step - loss: 1.3445 - accuracy: 0.4470\n",
      "Epoch 27/100\n",
      "132/132 [==============================] - 0s 53us/step - loss: 1.3318 - accuracy: 0.4773\n",
      "Epoch 28/100\n",
      "132/132 [==============================] - 0s 53us/step - loss: 1.3202 - accuracy: 0.5076\n",
      "Epoch 29/100\n",
      "132/132 [==============================] - 0s 45us/step - loss: 1.3088 - accuracy: 0.5152\n",
      "Epoch 30/100\n",
      "132/132 [==============================] - 0s 45us/step - loss: 1.2986 - accuracy: 0.5303\n",
      "Epoch 31/100\n",
      "132/132 [==============================] - 0s 53us/step - loss: 1.2898 - accuracy: 0.5379\n",
      "Epoch 32/100\n",
      "132/132 [==============================] - 0s 38us/step - loss: 1.2794 - accuracy: 0.5530\n",
      "Epoch 33/100\n",
      "132/132 [==============================] - 0s 53us/step - loss: 1.2693 - accuracy: 0.5530\n",
      "Epoch 34/100\n",
      "132/132 [==============================] - 0s 38us/step - loss: 1.2582 - accuracy: 0.5455\n",
      "Epoch 35/100\n",
      "132/132 [==============================] - 0s 53us/step - loss: 1.2492 - accuracy: 0.5455\n",
      "Epoch 36/100\n",
      "132/132 [==============================] - 0s 38us/step - loss: 1.2398 - accuracy: 0.5606\n",
      "Epoch 37/100\n",
      "132/132 [==============================] - 0s 53us/step - loss: 1.2297 - accuracy: 0.5606\n",
      "Epoch 38/100\n",
      "132/132 [==============================] - 0s 45us/step - loss: 1.2211 - accuracy: 0.5833\n",
      "Epoch 39/100\n",
      "132/132 [==============================] - 0s 45us/step - loss: 1.2116 - accuracy: 0.5833\n",
      "Epoch 40/100\n",
      "132/132 [==============================] - 0s 60us/step - loss: 1.2022 - accuracy: 0.5682\n",
      "Epoch 41/100\n",
      "132/132 [==============================] - 0s 38us/step - loss: 1.1937 - accuracy: 0.5758\n",
      "Epoch 42/100\n",
      "132/132 [==============================] - 0s 53us/step - loss: 1.1851 - accuracy: 0.5833\n",
      "Epoch 43/100\n",
      "132/132 [==============================] - 0s 53us/step - loss: 1.1752 - accuracy: 0.5909\n",
      "Epoch 44/100\n",
      "132/132 [==============================] - 0s 45us/step - loss: 1.1657 - accuracy: 0.6061\n",
      "Epoch 45/100\n",
      "132/132 [==============================] - 0s 53us/step - loss: 1.1579 - accuracy: 0.6061\n",
      "Epoch 46/100\n",
      "132/132 [==============================] - 0s 45us/step - loss: 1.1500 - accuracy: 0.5909\n",
      "Epoch 47/100\n",
      "132/132 [==============================] - 0s 45us/step - loss: 1.1432 - accuracy: 0.5682\n",
      "Epoch 48/100\n",
      "132/132 [==============================] - 0s 45us/step - loss: 1.1360 - accuracy: 0.5758\n",
      "Epoch 49/100\n",
      "132/132 [==============================] - 0s 45us/step - loss: 1.1276 - accuracy: 0.5909\n",
      "Epoch 50/100\n",
      "132/132 [==============================] - 0s 60us/step - loss: 1.1188 - accuracy: 0.5985\n",
      "Epoch 51/100\n",
      "132/132 [==============================] - 0s 45us/step - loss: 1.1111 - accuracy: 0.6136\n",
      "Epoch 52/100\n",
      "132/132 [==============================] - 0s 53us/step - loss: 1.1036 - accuracy: 0.6212\n",
      "Epoch 53/100\n",
      "132/132 [==============================] - 0s 45us/step - loss: 1.0971 - accuracy: 0.6212\n",
      "Epoch 54/100\n",
      "132/132 [==============================] - 0s 53us/step - loss: 1.0904 - accuracy: 0.6288\n",
      "Epoch 55/100\n",
      "132/132 [==============================] - 0s 45us/step - loss: 1.0838 - accuracy: 0.6136\n",
      "Epoch 56/100\n",
      "132/132 [==============================] - 0s 45us/step - loss: 1.0771 - accuracy: 0.6136\n",
      "Epoch 57/100\n",
      "132/132 [==============================] - 0s 45us/step - loss: 1.0692 - accuracy: 0.6288\n",
      "Epoch 58/100\n",
      "132/132 [==============================] - 0s 45us/step - loss: 1.0615 - accuracy: 0.6439\n",
      "Epoch 59/100\n",
      "132/132 [==============================] - 0s 45us/step - loss: 1.0538 - accuracy: 0.6667\n",
      "Epoch 60/100\n",
      "132/132 [==============================] - 0s 60us/step - loss: 1.0458 - accuracy: 0.6591\n",
      "Epoch 61/100\n",
      "132/132 [==============================] - 0s 45us/step - loss: 1.0386 - accuracy: 0.6742\n",
      "Epoch 62/100\n",
      "132/132 [==============================] - 0s 45us/step - loss: 1.0314 - accuracy: 0.6742\n",
      "Epoch 63/100\n",
      "132/132 [==============================] - 0s 60us/step - loss: 1.0251 - accuracy: 0.6591\n",
      "Epoch 64/100\n",
      "132/132 [==============================] - 0s 38us/step - loss: 1.0184 - accuracy: 0.6591\n",
      "Epoch 65/100\n",
      "132/132 [==============================] - 0s 45us/step - loss: 1.0115 - accuracy: 0.6591\n",
      "Epoch 66/100\n",
      "132/132 [==============================] - 0s 45us/step - loss: 1.0045 - accuracy: 0.6667\n",
      "Epoch 67/100\n",
      "132/132 [==============================] - 0s 45us/step - loss: 0.9986 - accuracy: 0.6742\n",
      "Epoch 68/100\n",
      "132/132 [==============================] - 0s 45us/step - loss: 0.9919 - accuracy: 0.6742\n",
      "Epoch 69/100\n",
      "132/132 [==============================] - 0s 30us/step - loss: 0.9861 - accuracy: 0.6818\n",
      "Epoch 70/100\n",
      "132/132 [==============================] - 0s 38us/step - loss: 0.9779 - accuracy: 0.6818\n",
      "Epoch 71/100\n",
      "132/132 [==============================] - 0s 39us/step - loss: 0.9709 - accuracy: 0.6742\n",
      "Epoch 72/100\n",
      "132/132 [==============================] - 0s 38us/step - loss: 0.9643 - accuracy: 0.6894\n",
      "Epoch 73/100\n",
      "132/132 [==============================] - 0s 45us/step - loss: 0.9583 - accuracy: 0.6818\n",
      "Epoch 74/100\n",
      "132/132 [==============================] - 0s 46us/step - loss: 0.9539 - accuracy: 0.6970\n",
      "Epoch 75/100\n",
      "132/132 [==============================] - 0s 46us/step - loss: 0.9479 - accuracy: 0.7121\n",
      "Epoch 76/100\n",
      "132/132 [==============================] - 0s 45us/step - loss: 0.9423 - accuracy: 0.6894\n",
      "Epoch 77/100\n",
      "132/132 [==============================] - 0s 45us/step - loss: 0.9359 - accuracy: 0.7045\n",
      "Epoch 78/100\n",
      "132/132 [==============================] - 0s 53us/step - loss: 0.9294 - accuracy: 0.6894\n",
      "Epoch 79/100\n",
      "132/132 [==============================] - 0s 38us/step - loss: 0.9248 - accuracy: 0.6894\n",
      "Epoch 80/100\n"
     ]
    },
    {
     "name": "stdout",
     "output_type": "stream",
     "text": [
      "132/132 [==============================] - 0s 45us/step - loss: 0.9181 - accuracy: 0.6970\n",
      "Epoch 81/100\n",
      "132/132 [==============================] - 0s 38us/step - loss: 0.9112 - accuracy: 0.6894\n",
      "Epoch 82/100\n",
      "132/132 [==============================] - 0s 53us/step - loss: 0.9056 - accuracy: 0.6894\n",
      "Epoch 83/100\n",
      "132/132 [==============================] - 0s 38us/step - loss: 0.9000 - accuracy: 0.6970\n",
      "Epoch 84/100\n",
      "132/132 [==============================] - 0s 68us/step - loss: 0.8937 - accuracy: 0.7045\n",
      "Epoch 85/100\n",
      "132/132 [==============================] - 0s 60us/step - loss: 0.8880 - accuracy: 0.7045\n",
      "Epoch 86/100\n",
      "132/132 [==============================] - 0s 68us/step - loss: 0.8826 - accuracy: 0.7273\n",
      "Epoch 87/100\n",
      "132/132 [==============================] - 0s 45us/step - loss: 0.8762 - accuracy: 0.7197\n",
      "Epoch 88/100\n",
      "132/132 [==============================] - 0s 45us/step - loss: 0.8712 - accuracy: 0.7273\n",
      "Epoch 89/100\n",
      "132/132 [==============================] - 0s 53us/step - loss: 0.8659 - accuracy: 0.7273\n",
      "Epoch 90/100\n",
      "132/132 [==============================] - 0s 53us/step - loss: 0.8607 - accuracy: 0.7273\n",
      "Epoch 91/100\n",
      "132/132 [==============================] - 0s 46us/step - loss: 0.8559 - accuracy: 0.7273\n",
      "Epoch 92/100\n",
      "132/132 [==============================] - 0s 53us/step - loss: 0.8509 - accuracy: 0.7273\n",
      "Epoch 93/100\n",
      "132/132 [==============================] - 0s 45us/step - loss: 0.8438 - accuracy: 0.7273\n",
      "Epoch 94/100\n",
      "132/132 [==============================] - 0s 53us/step - loss: 0.8388 - accuracy: 0.7348\n",
      "Epoch 95/100\n",
      "132/132 [==============================] - 0s 45us/step - loss: 0.8335 - accuracy: 0.7273\n",
      "Epoch 96/100\n",
      "132/132 [==============================] - 0s 45us/step - loss: 0.8289 - accuracy: 0.7273\n",
      "Epoch 97/100\n",
      "132/132 [==============================] - 0s 45us/step - loss: 0.8251 - accuracy: 0.7273\n",
      "Epoch 98/100\n",
      "132/132 [==============================] - 0s 53us/step - loss: 0.8199 - accuracy: 0.7348\n",
      "Epoch 99/100\n",
      "132/132 [==============================] - 0s 45us/step - loss: 0.8135 - accuracy: 0.7424\n",
      "Epoch 100/100\n",
      "132/132 [==============================] - 0s 45us/step - loss: 0.8071 - accuracy: 0.7348\n"
     ]
    },
    {
     "data": {
      "text/plain": [
       "<keras.callbacks.callbacks.History at 0x1530e466fd0>"
      ]
     },
     "execution_count": 31,
     "metadata": {},
     "output_type": "execute_result"
    }
   ],
   "source": [
    "model.fit(X_numbers,Y_onehot,epochs=100)"
   ]
  },
  {
   "cell_type": "code",
   "execution_count": 32,
   "metadata": {},
   "outputs": [
    {
     "name": "stdout",
     "output_type": "stream",
     "text": [
      "['congratulations', 'on', 'your', 'acceptance']\n"
     ]
    }
   ],
   "source": [
    "\n",
    "i = 7\n",
    "print(data[0][i])"
   ]
  },
  {
   "cell_type": "code",
   "execution_count": 33,
   "metadata": {},
   "outputs": [],
   "source": [
    "\n",
    "output = np.argmax(model.predict(X_numbers),axis=1)"
   ]
  },
  {
   "cell_type": "code",
   "execution_count": 35,
   "metadata": {},
   "outputs": [
    {
     "name": "stdout",
     "output_type": "stream",
     "text": [
      "0    3\n",
      "1    2\n",
      "2    3\n",
      "3    0\n",
      "4    4\n",
      "5    0\n",
      "6    3\n",
      "7    2\n",
      "8    3\n",
      "9    1\n",
      "Name: 1, dtype: int64\n"
     ]
    }
   ],
   "source": [
    "print(y_train[:10])"
   ]
  },
  {
   "cell_type": "code",
   "execution_count": 36,
   "metadata": {},
   "outputs": [
    {
     "data": {
      "text/plain": [
       "98"
      ]
     },
     "execution_count": 36,
     "metadata": {},
     "output_type": "execute_result"
    }
   ],
   "source": [
    "np.sum(output==y_train)"
   ]
  },
  {
   "cell_type": "code",
   "execution_count": 43,
   "metadata": {},
   "outputs": [
    {
     "name": "stdout",
     "output_type": "stream",
     "text": [
      "(50,)\n",
      "(1, 50)\n"
     ]
    }
   ],
   "source": [
    "text = \"i love this movie\"\n",
    "\n",
    "avg_v = avg_vector(text.split())\n",
    "print(avg_v.shape)\n",
    "avg_v= avg_v.reshape(1,50)\n",
    "print(avg_v.shape)"
   ]
  },
  {
   "cell_type": "code",
   "execution_count": 44,
   "metadata": {},
   "outputs": [],
   "source": [
    "\n",
    "emoji_label_predict = np.argmax(model.predict(avg_v))"
   ]
  },
  {
   "cell_type": "code",
   "execution_count": 45,
   "metadata": {},
   "outputs": [
    {
     "name": "stdout",
     "output_type": "stream",
     "text": [
      "2\n",
      "😁\n"
     ]
    }
   ],
   "source": [
    "print(emoji_label_predict)\n",
    "print(emoji.emojize(emoji_dict[emoji_label_predict]))"
   ]
  },
  {
   "cell_type": "code",
   "execution_count": null,
   "metadata": {},
   "outputs": [],
   "source": []
  }
 ],
 "metadata": {
  "kernelspec": {
   "display_name": "Python 3",
   "language": "python",
   "name": "python3"
  },
  "language_info": {
   "codemirror_mode": {
    "name": "ipython",
    "version": 3
   },
   "file_extension": ".py",
   "mimetype": "text/x-python",
   "name": "python",
   "nbconvert_exporter": "python",
   "pygments_lexer": "ipython3",
   "version": "3.6.10"
  }
 },
 "nbformat": 4,
 "nbformat_minor": 2
}
